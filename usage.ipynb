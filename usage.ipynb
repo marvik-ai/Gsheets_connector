{
 "cells": [
  {
   "cell_type": "code",
   "execution_count": null,
   "metadata": {},
   "outputs": [],
   "source": [
    "!pip install -r requirements.txt"
   ]
  },
  {
   "cell_type": "code",
   "execution_count": 3,
   "metadata": {},
   "outputs": [],
   "source": [
    "from manager import GoogleDriveManager"
   ]
  },
  {
   "cell_type": "code",
   "execution_count": null,
   "metadata": {},
   "outputs": [],
   "source": [
    "manager = GoogleDriveManager(folder_id='your_drive_folder_id', use_dotenv=True)"
   ]
  },
  {
   "cell_type": "code",
   "execution_count": null,
   "metadata": {},
   "outputs": [],
   "source": [
    "files_df = manager.list_files_in_folder()\n",
    "print(files_df)"
   ]
  },
  {
   "cell_type": "code",
   "execution_count": 46,
   "metadata": {},
   "outputs": [
    {
     "name": "stderr",
     "output_type": "stream",
     "text": [
      "[2024-09-04 17:58:42] INFO - __init__.py - file_cache is only supported with oauth2client<4.0.0\n"
     ]
    },
    {
     "name": "stdout",
     "output_type": "stream",
     "text": [
      "                                     Name                           Drive ID\n",
      "0   D_968065-MLB48810757592_012022-F.webp  1qRIVZDD-KjgZmDdsu5H_6G3zvi4uAAT9\n",
      "1   D_984502-MLB53432801751_012023-F.webp  13HqgbmJfqKIvCh0aTa7Zeboo5CHHc3Jq\n",
      "2   D_991578-MLB75665013597_042024-F.webp  1QuHXB_KWVD5u04mOtamcZkmoAtxV4B0m\n",
      "3   D_996355-MLA76992520531_062024-F.webp  1VWWYie0PnjJN0WWhyrVXEBa0gmiuOMW7\n",
      "4   D_970300-MLB32595422260_102019-F.webp  1kqMbcsxY0rUr-LDaD1g9_Hd-S0ceIqbk\n",
      "5   D_986722-MLB54151881485_032023-F.webp  1jzbj473-fNYJkLlaDjiZrxkWOie6X78R\n",
      "6   D_779215-MLB46612455578_072021-F.webp  1FJTRU0ik3sqQ9eI0LcMMQgTZ8sHSMJ3l\n",
      "7   D_729756-MLB49056824845_022022-F.webp  1H96fkd_UProFZZIxHfb44SJnFxQ8EUmP\n",
      "8   D_758672-MLA70775816556_072023-F.webp  1RuuBGdC_9a_cB2kDkj4EDc27QRiWUlql\n",
      "9   D_898989-MLB54457355068_032023-F.webp  124VHPktQ4yYRY-pOxkrPdCKKsbOZmdWg\n",
      "10  D_787311-MLA76106049819_042024-F.webp  1KcB9rvepRRJdETKTOaAdKvN8W3YUCSY7\n",
      "11  D_854756-MLB50010459404_052022-F.webp  1C9OGOgzwnhfnwI69pmYVGnpUJhiI6A3_\n",
      "12  D_759260-MLB32233932364_092019-F.webp  1zE5zYt1Dm5EW0IwLphnTiBH9Zl7mYEon\n",
      "13  D_953327-MLB51885463743_102022-F.webp  1Pjh81PkUzP8DuKy-IdInxhghpHwga9lD\n",
      "14  D_607812-MLA77635412742_072024-F.webp  1Neol7gH2PsV9SrSrrlKemwkrsZ9XBcMh\n",
      "15  D_633771-MLB32388694270_102019-F.webp  1LOpuutwtJzGrgGbDDL2-dd6kFOrGi3EI\n",
      "16  D_784202-MLB69544424043_052023-F.webp  1VH0g0KLOCveymG0t6-ClGwDjJN5FTU8n\n",
      "17  D_802174-MLB72091896103_102023-F.webp  1rmxWljvv4wjxvdK7rs7_v6ZnNNsJbBMc\n",
      "18  D_653791-MLB32702845114_102019-F.webp  1LEn8Q86jq_aNNAojwAMzKjiqZtPKnkta\n",
      "19  D_965218-MLB75754529677_042024-F.webp  1O-26c668puKFo2gQTiHn4q3hBoAket_H\n",
      "20  D_772313-MLB69544630631_052023-F.webp  1X0QP0TATyou7MfIGvXIQBvBrmYx4ey9m\n",
      "21  D_857353-MLB74846746805_032024-F.webp  1L6k0j7lnpjpBix3OQNmLLFS48jI4-i6Z\n",
      "22  D_618465-MLB75287747609_032024-F.webp  1S-_kkisqd8ZDnndgiz7kwjBUA0VZa_zC\n",
      "23  D_771984-MLA52933879788_122022-F.webp  1c1HYOQMFamxvGl6g58m_bv4ODeW9eqMY\n",
      "24  D_628919-MLB69534562756_052023-F.webp  1Fn59TnGMP-MzxkUluIuQlDjrsyyHbG8v\n",
      "25  D_629829-MLA75435378704_042024-F.webp  15WLPbEpleiV0xIgYlIj7ueeggv8J5L3Z\n",
      "26  D_719885-MLA74020746959_012024-F.webp  1x0IDA0SO7d3Js4Pz-zL3wQOxWLvD2jNu\n",
      "27  D_817992-MLB32602377118_102019-F.webp  1E-Zz22QjDr438I_hYvFJZYcu093xif_A\n",
      "28  D_871413-MLB53640344965_022023-F.webp  13Kxaao7jwQWhZ1Vt-5uwedA_VQ1DWfBX\n",
      "29  D_808510-MLB26635951893_012018-F.webp  19I2ym3DnP77xLv-GtnmxdfImxQwaz6AW\n",
      "30  D_929076-MLB53432548016_012023-F.webp  1kFkU_FYxmmXkvc5556f55uFEjDRwM8Dg\n",
      "31  D_858907-MLA51361250476_082022-F.webp  1-g6A2go3Jv-HYQUi40pmXreolku0JlKU\n",
      "32  D_666727-MLB32623375568_102019-F.webp  1_Z_K2g5K43NZ_app3GaVvynypR3cZm1q\n",
      "33  D_953159-MLB54387475675_032023-F.webp  1fjtXwXnvavR_f89rcBVvtqFJrs1XH5wD\n",
      "34  D_898886-MLB31176251049_062019-F.webp  17wRBchjaVdZQ9-KypJ3idDs1x3ff5EG8\n",
      "35  D_663579-MLB54151950358_032023-F.webp  1b1mkAQAU1o9khPaIfp_SNl3ryPxwheZI\n",
      "36  D_957540-MLB31077557973_062019-F.webp  1zjhDiF-BKFVBZ8kF0BT8dwCNfeL6gz0k\n",
      "37  D_873753-MLB54077763214_022023-F.webp  1MGEU9DOftEE3iBUTlmrw-NZbGGGHlRqa\n",
      "38  D_925689-MLA51606264229_092022-F.webp  1xvFZ-vjlCyqvwIlw-pwX046WrnPmeKB2\n",
      "39  D_620801-MLB75510919882_042024-F.webp  1P00l5aWi2uHSo-sCuLhOdbHs-gNLDdWZ\n",
      "40  D_680959-MLB53640473067_022023-F.webp  11BeVe605gniRjbyxLZPit3Hw3XyNfmMZ\n",
      "41  D_808144-MLA75471270336_042024-F.webp  1TSwwjjgNRjN-xv3zSbHJeClJQHPFThxY\n",
      "42  D_962687-MLB53446528527_012023-F.webp  1Cc-5xs7iSCl8aNzV2NbFEqfTq7pbXHqX\n",
      "43  D_781175-MLA76786420544_062024-F.webp  10J9fYy_I53aJCUQLQaislB6uPD74y_vv\n",
      "44  D_830438-MLB75552878196_042024-F.webp  1XO94B8fNha9oURdYEWAIl4DeicSSUAtN\n",
      "45  D_734364-MLB75404603260_042024-F.webp  1rkv-SUZvhuF31PeCE0nreRXNjYGwNTd8\n",
      "46  D_718908-MLB53530574558_012023-F.webp  1l0vgWvIpfZFuKBX_ODdcV5D_Nx4u3oo9\n",
      "47  D_675859-CBT50229339558_062022-F.webp  1WjcFIDCs8c2tGEKtFE2H_zR1BWp34dhh\n",
      "48  D_712233-MLB51493215688_092022-F.webp  1EeaE5mZpn022d2LwY33esVMuf_7d3VM7\n",
      "49  D_837831-MLA76549227155_052024-F.webp  1kG0y1OJu_kLh0HXCw9liCQGwyInrKUdu\n",
      "50  D_837343-MLB31851230090_082019-F.webp  1JGYVwYtFBwCKF-G0H_FNfvgKNPOqTT-k\n",
      "51  D_944111-MLA76992556439_062024-F.webp  1dZav1zDgzEiFTmWzm8L1A5P4WOAwqxeY\n",
      "52  D_602957-MLB31020116235_062019-F.webp  1uMly7gsxmXTdNZ3Ln7rfhe83-o5ztoeD\n",
      "53  D_604183-MLB32407230549_102019-F.webp  1TWfOC5AgrLPwqZICeF54fZ0NUC5X3vhd\n",
      "None\n"
     ]
    }
   ],
   "source": [
    "drive_link = manager.get_drive_link('D_600586-MLB28202680293_092018-F.webp')\n",
    "print(drive_link)"
   ]
  },
  {
   "cell_type": "code",
   "execution_count": null,
   "metadata": {},
   "outputs": [],
   "source": [
    "data = {'Name': ['File1', 'File2'], 'Image': ['image1.png', 'image2.png']}\n",
    "df = pd.DataFrame(data)\n",
    "df.head()"
   ]
  },
  {
   "cell_type": "code",
   "execution_count": null,
   "metadata": {},
   "outputs": [],
   "source": [
    "spreadsheet_id = '1Pb6uvwSeQDZAT4atum5fn9gpsfh42_uRCtbBwNOjCtI'\n",
    "sheet_name = 'prueba'\n",
    "manager.create_sheet_with_data(spreadsheet_id=spreadsheet_id, sheet_name=sheet_name, df=df, image_col='Image')"
   ]
  }
 ],
 "metadata": {
  "kernelspec": {
   "display_name": "base",
   "language": "python",
   "name": "python3"
  },
  "language_info": {
   "codemirror_mode": {
    "name": "ipython",
    "version": 3
   },
   "file_extension": ".py",
   "mimetype": "text/x-python",
   "name": "python",
   "nbconvert_exporter": "python",
   "pygments_lexer": "ipython3",
   "version": "3.11.9"
  },
  "orig_nbformat": 4
 },
 "nbformat": 4,
 "nbformat_minor": 2
}
